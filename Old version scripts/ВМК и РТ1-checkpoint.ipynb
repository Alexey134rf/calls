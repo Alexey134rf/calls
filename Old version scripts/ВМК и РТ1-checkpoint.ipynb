{
 "cells": [
  {
   "cell_type": "code",
   "execution_count": null,
   "metadata": {
    "scrolled": true
   },
   "outputs": [],
   "source": [
    "import pandas as pd\n",
    "import datetime as dt\n",
    "import numpy as np\n",
    "import glob\n",
    "import re\n",
    "\n",
    "holidays = [dt.date(2020,12,31),dt.date(2021,1,1),dt.date(2021,1,2), dt.date(2021,1,3), dt.date(2021,1,4), dt.date(2021,1,5), \n",
    "            dt.date(2021,1,6), dt.date(2021,1,7), dt.date(2021,1,8), dt.date(2021,1,9), dt.date(2021,1,10), dt.date(2021,2,22),\n",
    "            dt.date(2021,2,23), dt.date(2021,3,8), dt.date(2021,5,3),dt.date(2021,5,4), dt.date(2021,5,5), dt.date(2021,5,6), \n",
    "            dt.date(2021,5,7), dt.date(2021,5,10), dt.date(2021,11,4), dt.date(2021,11,5)]\n",
    "   \n",
    "\n",
    "def preprocess_dataframe(dataframe):\n",
    "    dataframe['Время звонка']=dataframe['Время звонка'].astype('str')\n",
    "    dataframe['Время ожидания']=pd.to_timedelta(dataframe['Время ожидания'].astype('str'))\n",
    "    dataframe['Время разговора']=pd.to_timedelta(dataframe['Время разговора'].astype('str'))\n",
    "    \n",
    "    dataframe=dataframe.groupby((dataframe[['Номер телефона']].isnull()==False).all(1).cumsum()).agg({'Время звонка': ' '.join, 'Номер телефона': 'first', 'Статус звонка': 'first',\n",
    "                  'Время ожидания': 'first', 'Время разговора': 'first',\n",
    "                  'Группа': 'first', 'Оператор': 'first'})\n",
    "    \n",
    "    dataframe['Время звонка']=dataframe['Время звонка'].apply(lambda x: dt.datetime.strptime(x, '%H:%M:%S %Y-%m-%d 00:00:00'))\n",
    "    dataframe['Дата звонка']=dataframe['Время звонка'].dt.date\n",
    "    dataframe['День недели']=dataframe['Время звонка'].apply(lambda x: x.weekday())\n",
    "    dataframe['Час звонка']=dataframe['Время звонка'].dt.hour\n",
    "    dataframe['Время звонка']=dataframe['Время звонка'].dt.time\n",
    "    \n",
    "    dataframe['Время ожидания']=dataframe['Время ожидания'].apply(lambda x: x.total_seconds()/60)\n",
    "    dataframe['Время разговора']=dataframe['Время разговора'].apply(lambda x: x.total_seconds()/60)\n",
    "    \n",
    "    dataframe['Оператор']= dataframe['Оператор'].replace({np.nan:None})\n",
    "    dataframe['Отчетная дата'] = dataframe['Дата звонка'] + dt.timedelta(days=1) \n",
    "    return dataframe\n",
    "\n",
    "\n",
    "def table_waiting_time(total):\n",
    "    total['Ждали']=total['Время ожидания'].apply(lambda x: x*60)\n",
    "    total['Ждали']= total.apply(lambda row: row['Ждали'], axis=1)\n",
    "    total['Время ожидания звонка']=total['Ждали'].apply(lambda x: dt.time(int(x/3600), int((x-int(x/3600)*3600)/60), int(x-int(x/60)*60)))\n",
    "    #table = total_all_days.sort_values(by='Время ожидания', ascending=False)[['Дата звонка','Время звонка','Время ожидания звонка', 'Группа', 'Оператор', 'Статус звонка']].copy()\n",
    "    table = total.sort_values(by='Время ожидания', ascending=False).loc[:,('Дата звонка','Время звонка','Время ожидания звонка', 'Группа', 'Оператор', 'Статус звонка')]\n",
    "    print(table)\n",
    "    return table\n",
    "\n",
    "def table_waiting_time2(total_all_days):\n",
    "    total_all_days['Ждали']=total_all_days['Время ожидания'].apply(lambda x: x*60)\n",
    "    total_all_days['Ждали']= total_all_days.apply(lambda row: row['Ждали'], axis=1)\n",
    "    total_all_days['Время ожидания звонка']=total_all_days['Ждали'].apply(lambda x: dt.time(int(x/3600), int((x-int(x/3600)*3600)/60), int(x-int(x/60)*60)))\n",
    "    #table = total_all_days.sort_values(by='Время ожидания', ascending=False)[['Дата звонка','Время звонка','Время ожидания звонка', 'Группа', 'Оператор', 'Статус звонка']].copy()\n",
    "    table = total_all_days.sort_values(by='Время ожидания', ascending=False).loc[:,('Дата звонка','Время звонка','Время ожидания звонка', 'Группа', 'Оператор', 'Статус звонка')]\n",
    "    return table\n",
    "\n",
    "# -\n",
    "def calculate_statistics(dataframe, title):\n",
    "    reporting_date = dataframe['Дата звонка'].values[0]\n",
    "    \n",
    "    day = dataframe[(dataframe['Час звонка'] >=8 ) & (dataframe['Час звонка']  < 20)]\n",
    "    night = dataframe[(dataframe['Час звонка'] < 8) | (dataframe['Час звонка'] >= 20)]\n",
    "    oper_df=dataframe[(dataframe['Оператор'].notna()) & (dataframe['Оператор']!='--')]\n",
    "\n",
    "    # Рассчитываем количество операторов в рабочее время (c 8:00 по 20:00)\n",
    "    work_day_df = oper_df[(oper_df['Час звонка']>=8) & (oper_df['Час звонка'] < 20)]\n",
    "    all_oper_day = len(work_day_df['Оператор'].unique())\n",
    "    oper_day=len(work_day_df[work_day_df['Статус звонка']!='Не дождался'] ['Оператор'].unique())\n",
    "\n",
    "    # Рассчитываем количество операторов в НЕ рабочее время\n",
    "    not_work_day_df = oper_df[(oper_df['Час звонка'] < 8) | (oper_df['Час звонка'] >= 20)]\n",
    "    all_oper_night = len(not_work_day_df['Оператор'].unique())\n",
    "    oper_night=len(not_work_day_df[not_work_day_df['Статус звонка']!='Не дождался'] ['Оператор'].unique())\n",
    "    all_oper = len(oper_df['Оператор'].unique())\n",
    "\n",
    "\n",
    "    # Рассчитываем количество званков всего\n",
    "    all_calls = dataframe.shape[0]\n",
    "    # Рассчитываем количество званков ночью\n",
    "    all_night_calls = night.shape[0]\n",
    "    # Рассчитываем количество званков днём\n",
    "    all_work_day_calls = day.shape[0]\n",
    "\n",
    "\n",
    "    # Рассчитываем количество пропущенных всего званков\n",
    "    all_missed_calls=dataframe[dataframe[\"Статус звонка\"]=='Не дождался'].shape[0]\n",
    "    # Рассчитываем количество пропущенных званков днём\n",
    "    day_missed_calls = day[day[\"Статус звонка\"]=='Не дождался'].shape[0]\n",
    "    # Рассчитываем количество пропущенных званков ночью\n",
    "    night_missed_calls = night[night[\"Статус звонка\"]=='Не дождался'].shape[0]\n",
    "\n",
    "\n",
    "    # Рассчитываем среднее время разговора за сутки\n",
    "    mean_talk=np.round(dataframe['Время разговора'].mean(),1)\n",
    "    # Рассчитываем среднее время разговора за день\n",
    "    day_mean_talk=np.round(day['Время разговора'].mean(),1)\n",
    "    # Рассчитываем среднее время разговора за ночь\n",
    "    night_mean_talk = np.round(night['Время разговора'].mean(),1)\n",
    "\n",
    "\n",
    "    # Рассчитываем максимальнок время ожидание\n",
    "    max_wait_df = dataframe[dataframe['Время ожидания']==dataframe['Время ожидания'].max()]\n",
    "    # За сутки\n",
    "    max_wait=np.round(dataframe['Время ожидания'].max(),1)\n",
    "    time_with_max_wait = max_wait_df['Время звонка'].values[0]\n",
    "    # За день\n",
    "    max_wait_day_df = day[day['Время ожидания']==day['Время ожидания'].max()]\n",
    "    max_wait_day = np.round(day['Время ожидания'].max(),1)\n",
    "    time_with_max_wait_day = max_wait_day_df['Время звонка'].values[0]\n",
    "    # За ночь\n",
    "    max_wait_night_df = night[night['Время ожидания'] == night['Время ожидания'].max()]\n",
    "    max_wait_night = np.round(night['Время ожидания'].max(),1)    \n",
    "    time_with_max_wait_night =  0 if max_wait_night_df.empty else max_wait_night_df['Время звонка'].values[0]    \n",
    "    \n",
    "    \n",
    "    # Рассчитываем у какого оператора было максимальнок время ожидание и в какой он группе\n",
    "    # За сутки\n",
    "    group_with_max_wait = max_wait_df['Группа'].values[0]\n",
    "    oper__with_max_wait = max_wait_df['Оператор'].values[0]\n",
    "    # За день\n",
    "    group_with_max_wait_day = max_wait_day_df['Группа'].values[0]\n",
    "    oper__with_max_wait_day = max_wait_day_df['Оператор'].values[0]\n",
    "    # За ночь\n",
    "    group_with_max_wait_night = 0 if max_wait_night_df.empty else max_wait_night_df['Группа'].values[0]\n",
    "    oper__with_max_wait_night = 0 if max_wait_night_df.empty else max_wait_night_df['Оператор'].values[0]\n",
    "    \n",
    "    \n",
    "    # Рассчитываем среднее время ожидание\n",
    "    all_wait = dataframe['Время ожидания']\n",
    "    day_wait = day['Время ожидания']\n",
    "    night_wait = night['Время ожидания']\n",
    "    # За сутки\n",
    "    mean_wait = np.round(all_wait.mean(),5)\n",
    "    # За день\n",
    "    mean_wait_day = np.round(day_wait.mean(),5)\n",
    "    # За ночь\n",
    "    mean_wait_night = np.round(night_wait.mean(),5)\n",
    "\n",
    "    # Рассчитываем ожидание более 3 минут\n",
    "    # За сутки\n",
    "    more_3_min_df = dataframe[all_wait >= 3].shape[0]\n",
    "    more_3_min = np.round(more_3_min_df * 100 / all_calls, 0)\n",
    "    # За день\n",
    "    more_3_min_day_df = day_wait[day_wait >= 3].shape[0]\n",
    "    more_3_min_day = np.round(more_3_min_day_df * 100 / all_calls, 0)\n",
    "    # За ночь\n",
    "    more_3_min_night_df = night_wait[night_wait >= 3].shape[0]\n",
    "    more_3_min_night = np.round(more_3_min_df * 100 / all_calls, 0)\n",
    "\n",
    "    # За сутки\n",
    "    print(f'{title}\\nза {reporting_date}\\n')\n",
    "    print('Информация за сутки: \\n')\n",
    "    print(f'Число операторов всего: {all_oper},\\nВсего звонков {all_calls}, неотвеченных вызовов: {all_missed_calls}')\n",
    "    print(f'Среднее время разговора за сутки (мин): {mean_talk}')\n",
    "    print(f'Максимальное время ожидания за сутки (мин): {max_wait} (Оператор: {oper__with_max_wait}, Группа: {group_with_max_wait}, Время звонка: {time_with_max_wait})')\n",
    "    print(f'Среднее время ожидания за сутки(мин): {mean_wait}')\n",
    "    print(f'Ожидание более 3 минут за сутки (%): {more_3_min}\\n')\n",
    "\n",
    "    # За день\n",
    "    print('\\nИнформация за рабочий день (с 8:00 до 20:00): \\n')\n",
    "    print(f'Число операторов днем {all_oper_day}, из них {oper_day} отвечали на звонки')\n",
    "    print(f'Днем позвонили {all_work_day_calls} раз, из них неотвеченных вызовов: {day_missed_calls}')\n",
    "    print(f'Среднее время разговора денём (мин): {day_mean_talk}')\n",
    "    print(f'Максимальное время ожидания днём (мин): {max_wait_day} (Оператор: {oper__with_max_wait_day}, Группа: {group_with_max_wait_day}, Время звонка: {time_with_max_wait_day})')\n",
    "    print(f'Среднее время ожидания днём (мин): {mean_wait_day}')\n",
    "    print(f'Ожидание более 3 минут днём (%): {more_3_min_day}\\n')\n",
    "\n",
    "    # За ночь\n",
    "    print('\\nИнформация за ночь (с 00:00 до 8:00 и с 20:00 до 00:00): \\n')\n",
    "    print(f'Число операторов ночью {all_oper_night}, из них {oper_night} отвечали на звонки')\n",
    "    print(f'Ночью позвонили {all_night_calls} раз, из них неотвеченных вызовов: {night_missed_calls}')      \n",
    "    print(f'Среднее время разговора ночью (мин): {night_mean_talk}')\n",
    "    print(f'Максимальное время ожидания ночью (мин): {max_wait_night} (Оператор: {oper__with_max_wait_night}, Группа: {group_with_max_wait_night}, Время звонка: {time_with_max_wait_night})')    \n",
    "    print(f'Среднее время ожидания ночью (мин): {mean_wait_night}')\n",
    "    print(f'Ожидание более 3 минут ночью (%): {more_3_min_night}')\n",
    "\n",
    "\n",
    "def create_df(names):\n",
    "    cont = []\n",
    "    for i in range(len(names)):\n",
    "        if names[i] =='../Недозвоны/ВМК\\~$2022-02-01.xlsx':\n",
    "            continue\n",
    "        #print(names[i])\n",
    "        df = pd.read_excel(names[i], engine='openpyxl')\n",
    "        df=preprocess_dataframe(df)\n",
    "\n",
    "        cont.append(df)\n",
    "    return pd.concat(cont)\n",
    "    \n",
    "names= glob.glob('../Недозвоны/ВМК/*', recursive=True)\n",
    "names2= glob.glob('../Недозвоны/ВМК2/*', recursive=True)\n",
    "\n",
    "total_all_days = create_df(names)\n",
    "total_all_days['Группа']=total_all_days['Группа'].replace({'Общая':'Медколледж','group':'Облкомобразования','Консультация':'Облкомобразования'})\n",
    "\n",
    "total_all_days2 = create_df(names2)\n",
    "total_all_days2['Группа']=total_all_days2['Группа'].replace({'Общая':'Медколледж','group':'Облкомобразования','Консультация':'Облкомобразования'})\n"
   ]
  },
  {
   "cell_type": "markdown",
   "metadata": {},
   "source": [
    "# Выбор отчётной даты"
   ]
  },
  {
   "cell_type": "code",
   "execution_count": null,
   "metadata": {},
   "outputs": [],
   "source": [
    "#day=dt.date.today()\n",
    "day=dt.date(2022,2,15)\n",
    "\n",
    "# Создаём датафрейм для первого домена\n",
    "df_specific_day = total_all_days[total_all_days['Дата звонка']==day].copy()\n",
    "reporting_date = df_specific_day['Дата звонка'].values[0]\n"
   ]
  },
  {
   "cell_type": "markdown",
   "metadata": {},
   "source": [
    "### Считаем статистику по первому домену"
   ]
  },
  {
   "cell_type": "code",
   "execution_count": null,
   "metadata": {
    "scrolled": false
   },
   "outputs": [],
   "source": [
    "calculate_statistics(df_specific_day,'Данные по первому домену')"
   ]
  },
  {
   "cell_type": "markdown",
   "metadata": {},
   "source": [
    "### Таблица максимального времени ожидания за конктретную дату"
   ]
  },
  {
   "cell_type": "code",
   "execution_count": null,
   "metadata": {
    "scrolled": true
   },
   "outputs": [],
   "source": [
    "table_waiting_time(df_specific_day).head(20)"
   ]
  },
  {
   "cell_type": "markdown",
   "metadata": {},
   "source": [
    "### Считаем статистику по второму домену"
   ]
  },
  {
   "cell_type": "code",
   "execution_count": null,
   "metadata": {
    "scrolled": false
   },
   "outputs": [],
   "source": [
    "# Создаём датафрейм для второго домена\n",
    "df_specific_day2 = total_all_days2[total_all_days2['Дата звонка'] == day]\n",
    "reporting_date2 = df_specific_day2['Дата звонка'].values[0]\n",
    "# Считаем статистику\n",
    "calculate_statistics(df_specific_day2, 'Данные по второму домену')"
   ]
  },
  {
   "cell_type": "markdown",
   "metadata": {},
   "source": [
    "### Таблица максимального времени ожидания за конкретную дату по первому домену"
   ]
  },
  {
   "cell_type": "code",
   "execution_count": null,
   "metadata": {
    "scrolled": true
   },
   "outputs": [],
   "source": [
    "table_waiting_time(df_specific_day).head(15)"
   ]
  },
  {
   "cell_type": "markdown",
   "metadata": {},
   "source": [
    "### Таблица максимального времени ожидания за конкретную дату по второму домену"
   ]
  },
  {
   "cell_type": "code",
   "execution_count": null,
   "metadata": {
    "scrolled": true
   },
   "outputs": [],
   "source": [
    "table_waiting_time(df_specific_day2).head(15)"
   ]
  },
  {
   "cell_type": "markdown",
   "metadata": {},
   "source": [
    "### Таблица максимального времени ожидания за все даты по первому домену"
   ]
  },
  {
   "cell_type": "code",
   "execution_count": null,
   "metadata": {
    "scrolled": true
   },
   "outputs": [],
   "source": [
    "table_waiting_time(total_all_days).head(10)"
   ]
  },
  {
   "cell_type": "markdown",
   "metadata": {},
   "source": [
    "### Таблица максимального времени ожидания за все даты по второму домену"
   ]
  },
  {
   "cell_type": "code",
   "execution_count": null,
   "metadata": {
    "scrolled": true
   },
   "outputs": [],
   "source": [
    "table_waiting_time(total_all_days2).head(10)"
   ]
  },
  {
   "cell_type": "markdown",
   "metadata": {},
   "source": [
    "### Распределение звонков по операторам на первом домене\n"
   ]
  },
  {
   "cell_type": "code",
   "execution_count": null,
   "metadata": {
    "scrolled": false
   },
   "outputs": [],
   "source": [
    "import seaborn as sns\n",
    "import matplotlib.pyplot as plt\n",
    "\n",
    "stress_on_oper =  df_specific_day[(df_specific_day['Оператор']!='user8') & (df_specific_day['Оператор']!='user9')& (df_specific_day['Оператор']!='Не определен') & (df_specific_day['Оператор']!='--')]\n",
    "\n",
    "f = plt.figure(figsize=(20,25))\n",
    "heatmap_plot = sns.heatmap(pd.crosstab(stress_on_oper['Оператор'], stress_on_oper['Час звонка']),annot=True,cmap=\"RdYlGn_r\",fmt=\"2\")\n",
    "plt.title('Распределение звонков по операторам '+ str(reporting_date))\n",
    "\n",
    "plt.show()"
   ]
  },
  {
   "cell_type": "markdown",
   "metadata": {},
   "source": [
    "### Распределение звонков по операторам на втором домене"
   ]
  },
  {
   "cell_type": "code",
   "execution_count": null,
   "metadata": {
    "scrolled": false
   },
   "outputs": [],
   "source": [
    "stress_on_oper2 =  df_specific_day2[(df_specific_day2['Оператор']!='user8') & (df_specific_day2['Оператор']!='user9') & (df_specific_day2['Оператор']!='Не определен') & (df_specific_day2['Оператор']!='--')]\n",
    "\n",
    "f2 = plt.figure(figsize=(15,25))\n",
    "heatmap_plot2 = sns.heatmap(pd.crosstab(stress_on_oper2['Оператор'], stress_on_oper2['Час звонка']),annot=True,cmap=\"RdYlGn_r\",fmt=\"2\")\n",
    "plt.title('Распределение звонков по операторам на втором домене '+ str(reporting_date2))\n",
    "\n",
    "plt.show()"
   ]
  },
  {
   "cell_type": "markdown",
   "metadata": {},
   "source": [
    "### Обшее количество недозвонов по часам за конкретную дату по первому домену"
   ]
  },
  {
   "cell_type": "code",
   "execution_count": null,
   "metadata": {},
   "outputs": [],
   "source": [
    "didnot_calls = df_specific_day[(df_specific_day['Оператор'] == '--') | (df_specific_day['Статус звонка'] == 'Не дождался')]\n",
    "\n",
    "print_didnot_calls = didnot_calls[['Время звонка', 'Номер телефона', 'Время ожидания звонка', 'Оператор']].copy()\n",
    "print_didnot_calls.to_excel(f\"Обшее количество недозвонов по первому домену {reporting_date2}.xlsx\")\n",
    "\n",
    "\n",
    "f = plt.figure(figsize=(10,10))\n",
    "\n",
    "heatmap_plot = sns.heatmap(pd.crosstab(didnot_calls['Оператор'], didnot_calls['Час звонка']),annot=True,cmap=\"RdYlGn_r\",fmt=\"1\")\n",
    "plt.title('Обшее количество недозвонов по часам по первому домену за '+ str(reporting_date2) + '\\n')\n",
    "\n",
    "plt.show()"
   ]
  },
  {
   "cell_type": "markdown",
   "metadata": {},
   "source": [
    "### Обшее количество недозвонов по часам за конкретную дату по второму домену"
   ]
  },
  {
   "cell_type": "code",
   "execution_count": null,
   "metadata": {
    "scrolled": false
   },
   "outputs": [],
   "source": [
    "didnot_calls2 = df_specific_day2[(df_specific_day2['Оператор'] == '--') | (df_specific_day2['Статус звонка'] == 'Не дождался')]\n",
    "\n",
    "print_didnot_calls2 = didnot_calls2[['Время звонка', 'Номер телефона', 'Группа', 'Время ожидания звонка', 'Оператор']].copy()\n",
    "print_didnot_calls2.to_excel(f\"Обшее количество недозвонов по второму домену {reporting_date2}.xlsx\")\n",
    "\n",
    "f = plt.figure(figsize=(10,10))\n",
    "\n",
    "heatmap_plot = sns.heatmap(pd.crosstab(didnot_calls2['Оператор'], didnot_calls2['Час звонка']),annot=True,cmap=\"RdYlGn_r\",fmt=\"1\")\n",
    "plt.title('Обшее количество недозвонов по часам по второму домену за '+ str(reporting_date2) + '\\n')\n",
    "\n",
    "plt.show()"
   ]
  },
  {
   "cell_type": "markdown",
   "metadata": {},
   "source": [
    "### Распределение звонков по операторам за конкретную дату по первому домену"
   ]
  },
  {
   "cell_type": "code",
   "execution_count": null,
   "metadata": {},
   "outputs": [],
   "source": [
    "all_calls = stress_on_oper.groupby('Оператор')['Час звонка'].count().reset_index(name=\"Число звонков\").sort_values('Число звонков',ascending=False)\n",
    "\n",
    "didnot_calls_oper = stress_on_oper[stress_on_oper['Статус звонка']=='Не дождался'].groupby('Оператор')['Час звонка'].count().reset_index(name=\"Число звонков\")\n",
    "\n",
    "f = plt.figure(figsize=(38,18))\n",
    "plt.bar(all_calls['Оператор'], all_calls['Число звонков'],label='Общее количество звонков')\n",
    "plt.bar(didnot_calls_oper['Оператор'], didnot_calls_oper['Число звонков'],label='Общее количество недозвонов',color='red')\n",
    "\n",
    "plt.ylabel('Число звонков')\n",
    "plt.title('Распределение звонков по операторам за '+ str(reporting_date))\n",
    "\n",
    "plt.rcParams.update({'font.size': 13})\n",
    "plt.gca().xaxis.set_tick_params(rotation = 90) \n",
    "plt.legend()\n",
    "plt.show()"
   ]
  },
  {
   "cell_type": "markdown",
   "metadata": {},
   "source": [
    "### Распределение звонков по операторам за конкретную дату по второму домену"
   ]
  },
  {
   "cell_type": "code",
   "execution_count": null,
   "metadata": {},
   "outputs": [],
   "source": [
    "all_calls2 = stress_on_oper2.groupby('Оператор')['Час звонка'].count().reset_index(name=\"Число звонков\").sort_values('Число звонков',ascending=False)\n",
    "\n",
    "didnot_calls2_oper = stress_on_oper2[stress_on_oper2['Статус звонка']=='Не дождался'].groupby('Оператор')['Час звонка'].count().reset_index(name=\"Число звонков\")\n",
    "\n",
    "f = plt.figure(figsize=(38,18))\n",
    "plt.bar(all_calls2['Оператор'], all_calls2['Число звонков'],label='Общее количество звонков')\n",
    "plt.bar(didnot_calls2_oper['Оператор'], didnot_calls2_oper['Число звонков'],label='Общее количество недозвонов',color='red')\n",
    "\n",
    "plt.ylabel('Число звонков')\n",
    "plt.title('Распределение звонков по операторам за '+ str(reporting_date2))\n",
    "\n",
    "plt.rcParams.update({'font.size': 13})\n",
    "plt.gca().xaxis.set_tick_params(rotation = 90) \n",
    "plt.legend()\n",
    "plt.show()"
   ]
  },
  {
   "cell_type": "markdown",
   "metadata": {},
   "source": [
    "### Общее количество звонков на втором домене в разрезе групп на отчётную дату "
   ]
  },
  {
   "cell_type": "code",
   "execution_count": null,
   "metadata": {
    "scrolled": false
   },
   "outputs": [],
   "source": [
    "# Общее количество звонков на втором домене в разрезе групп\n",
    "group_calls2=df_specific_day2.groupby('Группа')['Час звонка'].count().reset_index(name=\"Число звонков\").sort_values(by='Число звонков',ascending=False)\n",
    "\n",
    "\n",
    "f = plt.figure(figsize=(12,6))\n",
    "plt.barh(group_calls2['Группа'], group_calls2['Число звонков'],label='Общее количество звонков')\n",
    "\n",
    "plt.xlabel('Число звонков')\n",
    "plt.title(f'Общее количество звонков на втором домене в разрезе групп на {reporting_date2}')\n",
    "\n",
    "plt.rcParams.update({'font.size': 13})\n",
    "plt.show()"
   ]
  },
  {
   "cell_type": "markdown",
   "metadata": {},
   "source": [
    "### Общее количество звонков на втором домене в разрезе групп на отчётную дату (Круговая диаграмма)"
   ]
  },
  {
   "cell_type": "code",
   "execution_count": null,
   "metadata": {},
   "outputs": [],
   "source": [
    "vals = group_calls2['Число звонков']\n",
    "labels = group_calls2['Группа']\n",
    "explode = tuple([0.1 if x == 0 else 0 for x in range(len(labels))])\n",
    "fig, ax = plt.subplots()\n",
    "\n",
    "ax.pie(vals, labels=labels, explode=explode, autopct='%1.1f%%',shadow=True, startangle=90)\n",
    "ax.axis(\"equal\")\n",
    "print(f'Общее количество звонков на втором домене в разрезе групп на {reporting_date2}')"
   ]
  },
  {
   "cell_type": "markdown",
   "metadata": {},
   "source": [
    "### Динамика звонков по часам за конкретную дату на первом домене\n"
   ]
  },
  {
   "cell_type": "code",
   "execution_count": null,
   "metadata": {},
   "outputs": [],
   "source": [
    "count_calls = df_specific_day.groupby('Час звонка')['Дата звонка'].count().reset_index(name=\"Число звонков\")\n",
    "f = plt.figure(figsize=(12,6))\n",
    "plt.bar(count_calls['Час звонка'], count_calls['Число звонков'],label='Общее количество звонков')\n",
    "\n",
    "plt.xlabel('Час звонка')\n",
    "plt.ylabel('Число звонков')\n",
    "plt.title(f'Динамика звонков по часам за {reporting_date}')\n",
    "\n",
    "plt.rcParams.update({'font.size': 13})\n",
    "plt.xticks(np.arange(0,24,1))\n",
    "plt.legend()\n",
    "plt.show()"
   ]
  },
  {
   "cell_type": "markdown",
   "metadata": {},
   "source": [
    "### Динамика звонков по часам за конкретную дату на втором домене\n"
   ]
  },
  {
   "cell_type": "code",
   "execution_count": null,
   "metadata": {
    "scrolled": false
   },
   "outputs": [],
   "source": [
    "count_calls2 = df_specific_day2.groupby('Час звонка')['Дата звонка'].count().reset_index(name=\"Число звонков\")\n",
    "f = plt.figure(figsize=(12,6))\n",
    "plt.bar(count_calls2['Час звонка'], count_calls2['Число звонков'],label='Общее количество звонков')\n",
    "\n",
    "plt.xlabel('Час звонка')\n",
    "plt.ylabel('Число звонков')\n",
    "plt.title(f'Динамика звонков по часам на втором домене {reporting_date2}')\n",
    "\n",
    "plt.rcParams.update({'font.size': 13})\n",
    "plt.xticks(np.arange(6,21,1))\n",
    "plt.legend()\n",
    "plt.show()"
   ]
  },
  {
   "cell_type": "code",
   "execution_count": null,
   "metadata": {
    "scrolled": true
   },
   "outputs": [],
   "source": [
    "tmp=total_all_days[(total_all_days['Дата звонка']>=dt.date(2021,4,1)) & (total_all_days['Дата звонка']<=dt.date(2021,4,30))].groupby('Дата звонка')['Час звонка'].count().reset_index(name=\"Число звонков\")\n",
    "tmp2=total_all_days [ (total_all_days['Статус звонка']!='Не дождался') & (total_all_days['Дата звонка']>=dt.date(2021,4,1)) & (total_all_days['Дата звонка']<=dt.date(2021,4,30))].groupby('Дата звонка')['Час звонка'].count().reset_index(name=\"Число звонков\")\n",
    "Total = tmp2['Число звонков'].sum()\n",
    "\n",
    "print(tmp2)\n",
    "print(Total)\n"
   ]
  },
  {
   "cell_type": "markdown",
   "metadata": {},
   "source": [
    "# РОСТЕЛЕКОМ первый домен"
   ]
  },
  {
   "cell_type": "code",
   "execution_count": null,
   "metadata": {
    "scrolled": true
   },
   "outputs": [],
   "source": [
    "# namesRT = glob.glob('/home/trinity/Anaconda code/Работа/Недозвоны/Ростелеком/*', recursive=True)\n",
    "namesRT = glob.glob('../Недозвоны/Ростелеком/*', recursive=True)\n",
    "contRT=[]\n",
    "for i in range(len(namesRT)):\n",
    "    \n",
    "    date=re.search( r'[0-9]{4}-[0-9]{2}-[0-9]{2}', namesRT[i]).group()\n",
    "    df_RT = pd.read_excel(namesRT[i],dtype={'Номер вызывающего': str})\n",
    "    if (dt.datetime.strptime(date, \"%Y-%m-%d\")<dt.datetime(2021,4,22)):\n",
    "        df_RT['Длительность']=df_RT['Длительность'].str.replace( ' мин.', '').str.replace(' сек.', '')        \n",
    "        df_RT['Длительность']=df_RT['Длительность'].apply(lambda x: int(x.split(' ')[0])*60+int(x.split(' ')[1]) if len(x.split(' '))==2 else int(x.split(' ')[0]))\n",
    "    else:\n",
    "        df_RT['Длительность']=pd.to_timedelta(df_RT['Длительность'].astype('str'))\n",
    "        df_RT['Длительность']=df_RT['Длительность'].apply(lambda x: x.total_seconds())\n",
    "    df_RT=df_RT[df_RT['Длительность'] > 9]\n",
    "    \n",
    "    df_RT= df_RT[['Дата вызова','Время вызова','Номер вызывающего','Номер вызываемого', 'Первый ответивший', 'Статус', 'Длительность', 'Группа']]\n",
    "    df_RT['Номер вызываемого']=df_RT['Номер вызываемого'].astype('str')\n",
    "    df_RT['Время вызова']=df_RT['Время вызова'].apply(lambda x: dt.datetime.strptime(x, '%H:%M:%S'))\n",
    "    df_RT['Дата вызова']=pd.to_datetime(df_RT['Дата вызова'])\n",
    "    df_RT['День недели']=df_RT['Дата вызова'].apply(lambda x: x.weekday())\n",
    "    df_RT['Час звонка']=df_RT['Время вызова'].dt.hour\n",
    "    df_RT['Время вызова']=df_RT['Время вызова'].dt.time    \n",
    "    contRT.append(df_RT)\n",
    "    \n",
    "total_all_days_RT = pd.concat(contRT,ignore_index=True)\n",
    "\n",
    "total_all_days_RT = total_all_days_RT.rename(columns={'Первый ответивший': 'Оператор'})\n",
    "total_all_days_RT['Группа']=total_all_days_RT['Группа'].replace({'Общая':'Медколледж','Консультация':'Облкомобразования'})\n",
    "total_all_days_RT['Группа']=total_all_days_RT['Группа'].fillna('Не определена')\n",
    "total_all_days_RT['Оператор']=total_all_days_RT['Оператор'].replace({' ':'Не определен'})\n",
    "\n",
    "total_all_days_RT = total_all_days_RT.drop(total_all_days_RT[(total_all_days_RT['Группа'] =='Не определена') & (total_all_days_RT['Статус'] =='пропущенный')].index)\n",
    "total_all_days_RT = total_all_days_RT.drop(total_all_days_RT[(total_all_days_RT['Длительность'] < 120) & (total_all_days_RT['Статус'] =='пропущенный')].index)\n",
    "\n",
    "total_all_days_RT['Номер вызывающего']=total_all_days_RT['Номер вызывающего'].str.replace(' ', '')\n",
    "total_all_days_RT['Номер вызываемого']=total_all_days_RT['Номер вызываемого'].str.replace(' ', '')\n",
    "hospitals=pd.read_excel('Переадресация телефонов.xlsx')\n",
    "total_all_days_RT=total_all_days_RT.merge(hospitals, how = 'left', left_on='Номер вызывающего', right_on='Единый номер')\n",
    "\n",
    "total_all_days_RT['Наименование учреждения'] = total_all_days_RT['Наименование учреждения'].str.replace('Государственное учреждение здравоохранения','ГУЗ')\n",
    "total_all_days_RT['Наименование учреждения'] = total_all_days_RT['Наименование учреждения'].str.replace('Государственное бюджетное учреждение здравоохранения','ГБУЗ') \n",
    "total_all_days_RT['Наименование учреждения'] = total_all_days_RT['Наименование учреждения'].str.replace('Клиническая больница скорой медицинской помощи','КБСМП')\n",
    "total_all_days_RT['Наименование учреждения'] = total_all_days_RT['Наименование учреждения'].str.replace('клиническая поликлиника','КП')"
   ]
  },
  {
   "cell_type": "code",
   "execution_count": null,
   "metadata": {},
   "outputs": [],
   "source": [
    "# Определение зон\n",
    "\n",
    "def give_missed_calls_zone(percentage):\n",
    "    zone = ''\n",
    "    if (percentage >= 15):\n",
    "        zone = 'красная'\n",
    "    elif ( 5 < percentage < 15):\n",
    "        zone = 'желтая'\n",
    "    else:\n",
    "        zone = 'зеленая'\n",
    "    return zone\n",
    "\n",
    "\n",
    "def give_mean_wait_zone(time_wait):\n",
    "    zone = ''\n",
    "    if (time_wait > 10):\n",
    "        zone = 'красная'\n",
    "    elif ( 2 < time_wait <= 10):\n",
    "        zone = 'желтая'\n",
    "    else:\n",
    "        zone = 'зеленая'\n",
    "    return zone\n",
    "\n",
    "# Cчитаем отчёт для ЕА\n",
    "def report_for_EA(df_VMK, df_RT):\n",
    "    # дата отчёта\n",
    "    report_data = df_VMK['Дата звонка'].values[0].strftime(\"%d.%m.%Y\")\n",
    "    # всего звонков\n",
    "    all_calls = df_RT[df_RT['Номер вызываемого']=='78442325552'].shape[0]\n",
    "    # количество неотвеченных\n",
    "    missed_calls_count = df_RT[(df_RT['Статус']=='пропущенный') & (df_RT['Номер вызываемого']=='78442325552')].shape[0]   \n",
    "    # Рассчитываем процент недозвонов    \n",
    "    percentage_missed = np.round(missed_calls_count/all_calls * 100, 2)\n",
    "    missed_calls_zone = give_missed_calls_zone(percentage_missed)\n",
    "    # Рассчитываем среднее время ожидания\n",
    "    mean_wait = np.round(df_VMK['Время ожидания'].mean(),3)\n",
    "    mean_wait_zone = give_mean_wait_zone(mean_wait)\n",
    "        \n",
    "    print(f\"\"\"Информация по вызовам на \"122\" за {report_data}:\n",
    "Всего вызовов: {all_calls}\n",
    "Неотвеченных вызовов: {missed_calls_count} ( {str(percentage_missed).replace('.',',')}%, {missed_calls_zone} зона)\n",
    "Среднее время ожидания: {str(mean_wait).replace('.',',')} мин. ({mean_wait_zone} зона)\n",
    "\"\"\")"
   ]
  },
  {
   "cell_type": "code",
   "execution_count": null,
   "metadata": {
    "scrolled": true
   },
   "outputs": [],
   "source": [
    "\n",
    "\n"
   ]
  },
  {
   "cell_type": "code",
   "execution_count": null,
   "metadata": {
    "scrolled": true
   },
   "outputs": [],
   "source": [
    "# def rename_df_RT(dataframeRT):\n",
    "#     dataframeRT = dataframeRT.rename(columns={'Первый ответивший': 'Оператор'})\n",
    "#     dataframeRT['Группа']=dataframeRT['Группа'].fillna('Не определена')\n",
    "#     dataframeRT['Оператор']=dataframeRT['Оператор'].replace({' ':'Не определен'})\n",
    "\n",
    "#     dataframeRT = dataframeRT.drop(dataframeRT[(dataframeRT['Группа'] =='Не определена') & (dataframeRT['Статус'] =='пропущенный')].index)\n",
    "#     dataframeRT = dataframeRT.drop(dataframeRT[(dataframeRT['Длительность'] < 120) & (dataframeRT['Статус'] =='пропущенный')].index)\n",
    "#     dataframeRT['Номер вызывающего']=dataframeRT['Номер вызывающего'].str.replace(' ', '')\n",
    "#     dataframeRT['Номер вызываемого']=dataframeRT['Номер вызываемого'].str.replace(' ', '')\n",
    "\n",
    "\n",
    "#     hospitals=pd.read_excel('Переадресация телефонов.xlsx')\n",
    "#     dataframeRT=dataframeRT.merge(hospitals, how = 'left', left_on='Номер вызывающего', right_on='Единый номер')\n",
    "\n",
    "#     dataframeRT['Наименование учреждения'] = dataframeRT['Наименование учреждения'].str.replace('Государственное учреждение здравоохранения','ГУЗ')\n",
    "#     dataframeRT['Наименование учреждения'] = dataframeRT['Наименование учреждения'].str.replace('Государственное бюджетное учреждение здравоохранения','ГБУЗ') \n",
    "#     dataframeRT['Наименование учреждения'] = dataframeRT['Наименование учреждения'].str.replace('Клиническая больница скорой медицинской помощи','КБСМП')\n",
    "#     dataframeRT['Наименование учреждения'] = dataframeRT['Наименование учреждения'].str.replace('клиническая поликлиника','КП')\n",
    "#     return dataframeRT\n",
    "# total_all_days_RT = rename_df_RT(total_all_days_RT)\n",
    "# #total_all_days_RT = total_all_days_RT[total_all_days_RT['Дата вызова'] == '2022-02-10'] \n",
    "# total_all_days_RT\n",
    "# # x = total_all_days_RT['Дата вызова'].values[0]\n",
    "# # print(x)\n",
    "# # print(type(x))\n",
    "# # total_all_days_RT"
   ]
  },
  {
   "cell_type": "markdown",
   "metadata": {},
   "source": [
    "##### "
   ]
  },
  {
   "cell_type": "code",
   "execution_count": null,
   "metadata": {},
   "outputs": [],
   "source": [
    "def calculate_statistics_RT(dataframe):\n",
    "    all_calls_count=dataframe.shape[0]\n",
    "    all_calls_5552_count=dataframe[dataframe['Номер вызываемого']=='78442325552'].shape[0]\n",
    "    all_calls_5554_count=dataframe[dataframe['Номер вызываемого']=='78442325554'].shape[0]\n",
    "    missed_calls=dataframe[dataframe['Статус']=='пропущенный']\n",
    "    missed_calls_count=missed_calls.shape[0]\n",
    "    missed_calls_5552_count=missed_calls[missed_calls['Номер вызываемого']=='78442325552'].shape[0]\n",
    "    missed_calls_5554_count=missed_calls[missed_calls['Номер вызываемого']=='78442325554'].shape[0]\n",
    "    \n",
    "    hospital_calls=dataframe[dataframe['Наименование учреждения'].isnull()==False]\n",
    "    hospital_calls_count=hospital_calls.shape[0]\n",
    "    hospital_calls_count_5552=hospital_calls[hospital_calls['Номер вызываемого']=='78442325552'].shape[0]\n",
    "    hospital_calls_count_5554=hospital_calls[hospital_calls['Номер вызываемого']=='78442325554'].shape[0]\n",
    "    \n",
    "    print('По выгрузке Ростелекома: неотвеченных вызовов - {0} %'.format(np.round(missed_calls_5552_count/all_calls_5552_count*100,2)))\n",
    "    print('Всего вызовов – {0}, неотвеченных – {1} (отфильтровано менее 120 сек, а также по группе \"Не определена\").'.format(all_calls_5552_count, missed_calls_5552_count))\n",
    "      \n",
    "    \n"
   ]
  },
  {
   "cell_type": "code",
   "execution_count": null,
   "metadata": {},
   "outputs": [],
   "source": [
    "from datetime import datetime\n",
    "def calculate_statistics_WMK(dataframe):      \n",
    "    # Рассчитываем максимальнок время ожидание\n",
    "    max_wait_df = dataframe[dataframe['Время ожидания']==dataframe['Время ожидания'].max()]\n",
    "    group_with_max_wait = max_wait_df['Группа'].values[0]\n",
    "    oper__with_max_wait = max_wait_df['Оператор'].values[0]    \n",
    "    max_wait=np.round(dataframe['Время ожидания'].max(),1)\n",
    "    time_with_max_wait = max_wait_df['Время звонка'].values[0]    \n",
    "    report_data = dataframe['Дата звонка'].values[0].strftime(\"%d.%m.%Y\")\n",
    "    report_data_time = datetime.now().strftime(\"%H:%M\")\n",
    "    \n",
    "    print(f\"\"\"\n",
    "Информация по вызовам по состоянию на {report_data_time} за {report_data}.\n",
    "Максимальное время ожидания за сутки (мин): {max_wait} (Оператор: {oper__with_max_wait}, Группа: {group_with_max_wait}, Время звонка: {time_with_max_wait}))\n",
    "    \"\"\")\n",
    "    \n"
   ]
  },
  {
   "cell_type": "markdown",
   "metadata": {},
   "source": [
    "# Выбор отчётной даты"
   ]
  },
  {
   "cell_type": "code",
   "execution_count": null,
   "metadata": {},
   "outputs": [],
   "source": [
    "dayRT=dt.datetime(2022,2,16)\n",
    "\n",
    "# Создаём датафрейм для первого домена Ростелеком за определенную дату\n",
    "df_specific_day_RT = total_all_days_RT[total_all_days_RT['Дата вызова'] == dayRT]"
   ]
  },
  {
   "cell_type": "markdown",
   "metadata": {},
   "source": [
    "### Считаем статистику по первому домену"
   ]
  },
  {
   "cell_type": "code",
   "execution_count": null,
   "metadata": {
    "scrolled": true
   },
   "outputs": [],
   "source": [
    "calculate_statistics_WMK(df_specific_day)\n",
    "calculate_statistics_RT(df_specific_day_RT)\n",
    "#total_all_days_RT[(total_all_days_RT['Номер вызываемого']=='78442325552') & (total_all_days_RT['Дата вызова']==dayRT) & (total_all_days_RT['Статус']=='пропущенный')]\n",
    "\n",
    "table_RT=total_all_days_RT[(total_all_days_RT['Номер вызываемого']=='78442325552') & (total_all_days_RT['Дата вызова']==dayRT) & (total_all_days_RT['Статус']=='пропущенный')]\n",
    "table_RT.to_excel(\"Неотвеченные.xlsx\")"
   ]
  },
  {
   "cell_type": "markdown",
   "metadata": {},
   "source": [
    "### Распределение звонков по операторам"
   ]
  },
  {
   "cell_type": "code",
   "execution_count": null,
   "metadata": {
    "scrolled": false
   },
   "outputs": [],
   "source": [
    "################################################################################################\n",
    "tmp = df_specific_day_RT[(df_specific_day_RT['Номер вызываемого'] =='78442325552') & (df_specific_day_RT['Оператор']!='user8') & (df_specific_day_RT['Оператор']!='user9')]\n",
    "\n",
    "f = plt.figure(figsize=(10,10))\n",
    "heatmap_plot = sns.heatmap(pd.crosstab(tmp['Оператор'], tmp['Час звонка']),annot=True,cmap=\"RdYlGn_r\",fmt=\"1\")\n",
    "plt.title('Распределение звонков по операторам '+day.strftime('%d.%m.%Y'))\n",
    "\n",
    "plt.show()\n"
   ]
  },
  {
   "cell_type": "markdown",
   "metadata": {},
   "source": [
    "### Обшее количество недозвонов по часам"
   ]
  },
  {
   "cell_type": "code",
   "execution_count": null,
   "metadata": {
    "scrolled": false
   },
   "outputs": [],
   "source": [
    "if tmp[tmp['Оператор']=='Не определен'].empty:\n",
    "    print(\"Нет пропущенных звонков\")        \n",
    "else:        \n",
    "    temp2 = tmp[tmp['Оператор']=='Не определен']\n",
    "    f = plt.figure(figsize=(10,1))\n",
    "    heatmap_plot = sns.heatmap(pd.crosstab(temp2['Оператор'], temp2['Час звонка']),annot=True,cmap=\"RdYlGn_r\",fmt=\"1\")\n",
    "    plt.title('Обшее количество недозвонов по часам за '+day.strftime('%d.%m.%Y' + '\\n'))\n",
    "    plt.show('Не определен')"
   ]
  },
  {
   "cell_type": "markdown",
   "metadata": {},
   "source": [
    "### Общее количество звонков на первом домене в разрезе групп"
   ]
  },
  {
   "cell_type": "code",
   "execution_count": null,
   "metadata": {
    "scrolled": false
   },
   "outputs": [],
   "source": [
    "group_calls_RT=df_specific_day_RT.groupby('Группа')['Час звонка'].count().reset_index(name=\"Число звонков\").sort_values(by='Число звонков',ascending=False)\n",
    "\n",
    "\n",
    "f = plt.figure(figsize=(12,6))\n",
    "plt.barh(group_calls_RT['Группа'], group_calls_RT['Число звонков'],label='Общее количество звонков')\n",
    "\n",
    "plt.xlabel('Число звонков')\n",
    "plt.title(f'Общее количество звонков на втором домене в разрезе групп на {dayRT.date()}')\n",
    "\n",
    "plt.rcParams.update({'font.size': 13})\n",
    "plt.show()"
   ]
  },
  {
   "cell_type": "markdown",
   "metadata": {},
   "source": [
    "### Общее количество звонков на первом домене в разрезе групп (Круговая диаграмма)"
   ]
  },
  {
   "cell_type": "code",
   "execution_count": null,
   "metadata": {},
   "outputs": [],
   "source": [
    "vals = group_calls_RT['Число звонков']\n",
    "labels = group_calls_RT['Группа']\n",
    "\n",
    "fig, ax = plt.subplots()\n",
    "ax.pie(vals, labels=labels)\n",
    "ax.axis(\"equal\")\n",
    "print(f'Общее количество звонков на первом домене в разрезе групп на {dayRT.date()}')"
   ]
  },
  {
   "cell_type": "markdown",
   "metadata": {},
   "source": [
    "### Выгрузка по успешным звонкам за период"
   ]
  },
  {
   "cell_type": "code",
   "execution_count": null,
   "metadata": {
    "scrolled": false
   },
   "outputs": [],
   "source": [
    "start_RT = '2022-02-01'\n",
    "end_RT = '2022-02-18'\n",
    "tmp_RT=total_all_days_RT[(total_all_days_RT['Статус']=='успешный') & (total_all_days_RT['Дата вызова']>=pd.to_datetime(start_RT)) & (total_all_days_RT['Дата вызова']<=pd.to_datetime(end_RT))].groupby('Дата вызова')['Время вызова'].count().reset_index(name=\"Число звонков\")\n",
    "Total = tmp_RT['Число звонков'].sum()\n",
    "tmp_RT.to_excel(\"Успешные звонки.xlsx\")\n",
    "print(f'Всего звонков: {Total}')\n",
    "tmp_RT"
   ]
  },
  {
   "cell_type": "markdown",
   "metadata": {},
   "source": [
    "### Всего звонков"
   ]
  },
  {
   "cell_type": "code",
   "execution_count": null,
   "metadata": {
    "scrolled": true
   },
   "outputs": [],
   "source": [
    "start_RT = '2022-01-27'\n",
    "end_RT = '2022-01-31'\n",
    "tmp_RT=total_all_days_RT[(total_all_days_RT['Дата вызова']>=pd.to_datetime(start_RT)) & (total_all_days_RT['Дата вызова']<=pd.to_datetime(end_RT))].groupby('Дата вызова')['Время вызова'].count().reset_index(name=\"Число звонков\")\n",
    "Total = tmp_RT['Число звонков'].sum()\n",
    "tmp_RT.to_excel(\"Всего звонков.xlsx\")\n",
    "print(f'Всего звонков: {Total}')\n",
    "tmp_RT"
   ]
  },
  {
   "cell_type": "markdown",
   "metadata": {},
   "source": [
    "## Отчёт для ЕА\n"
   ]
  },
  {
   "cell_type": "code",
   "execution_count": null,
   "metadata": {
    "scrolled": false
   },
   "outputs": [],
   "source": [
    "report_for_EA(df_specific_day, df_specific_day_RT)"
   ]
  },
  {
   "cell_type": "markdown",
   "metadata": {},
   "source": [
    "### Для заполнения таблицы  комитета здравоохранения"
   ]
  },
  {
   "cell_type": "code",
   "execution_count": null,
   "metadata": {
    "scrolled": true
   },
   "outputs": [],
   "source": [
    "# 3 Всего количество обращений (за отчетный период\n",
    "# 4 Всего количество обращений (нарастающим итогом с 01.01.2022)\n",
    "# 5 Количество обращений (за отчетный период) по вопросам здравоохранения (организации и оказания мед.помощи)\n",
    "# 6 Количество обращений (нарастающим итогом с 01.01.2022) по вопросам здравоохранения (организации и оказания мед.помощи)  \n",
    "# 7 Количество обращений (за отчетный период) по вопросам covid - 19 (организации и оказания мед.помощи)  \n",
    "# 8 Количество обращений (нарастающим итогом с 01.01.2022) по вопросам covid - 19 (организации и оказания мед.помощи)  \n",
    "\n",
    "first_January = dt.datetime(2022,1,1)\n",
    "first_January_VMK2 = dt.datetime(2022,2,7)\n",
    "\n",
    "\n",
    "\n",
    "# ОПРЕДЕЛЯЕМ 7 ДНЕВНЫЙ ПЕРИОД !!!\n",
    "start_day=dt.datetime(2022,2,22)\n",
    "finish_day=dt.datetime(2022,2,28)\n",
    "\n",
    "\n",
    "\n",
    "# Создаём датафрейм для первого домена Ростелеком с 1 янворя 2022 года \n",
    "df_1_to_finish_day_RT = total_all_days_RT[(total_all_days_RT['Дата вызова'] >= first_January) & (total_all_days_RT['Дата вызова'] <= finish_day)]\n",
    "\n",
    "# Создаём датафрейм для первого домена Ростелеком за определенный период \n",
    "df_period_day_RT = total_all_days_RT[(total_all_days_RT['Дата вызова'] >= start_day) & (total_all_days_RT['Дата вызова'] <= finish_day)]\n",
    "\n",
    "# Создаём датафрейм для второго домена ВМК (Вызов врача и Вопросы не по covid-19)\n",
    "df_healthcare_calls_VMK2 = total_all_days2[(total_all_days2['Группа'] == 'Вызов врача') | (total_all_days2['Группа'] == 'Вопросы не по COVID')]\n",
    "# Вычеслдяем количество звонков с 1 янворя 2022 года \n",
    "count_1_to_finish_healthcare_calls_VMK2 = df_healthcare_calls_VMK2[(df_healthcare_calls_VMK2['Дата звонка'] >= first_January_VMK2.date()) & (df_healthcare_calls_VMK2['Дата звонка'] <= finish_day.date())].shape[0] \n",
    "# Вычеслдяем количество звонков за определенный период\n",
    "count_healthcare_calls_VMK2 = df_healthcare_calls_VMK2[(df_healthcare_calls_VMK2['Дата звонка'] >= start_day.date()) & (df_healthcare_calls_VMK2['Дата звонка'] <= finish_day.date())].shape[0] \n",
    "\n",
    "# Создаём датафрейм для второго домена ВМК по вопросам covid - 19 (Информация распространения COVID и Мониторинг больного COVID)\n",
    "df_covid_calls_VMK2 = df_covid_calls_VMK2[(df_covid_calls_VMK2['Группа'] == 'Информация распространения COVID') | (df_covid_calls_VMK2['Группа'] == 'Мониторинг больного COVID')]\n",
    "\n",
    "# Вычеслдяем количество звонков по вопросам covid - 19 с 1 янворя 2022 года \n",
    "count_1_to_covid_calls_VMK2 = df_covid_calls_VMK2[(df_covid_calls_VMK2['Дата звонка'] >= first_January_VMK2.date()) & (df_covid_calls_VMK2['Дата звонка'] <= finish_day.date())].shape[0]\n",
    "# Вычеслдяем количество звонков по вопросам covid - 19\n",
    "count_covid_calls_VMK2 = df_covid_calls_VMK2[(df_covid_calls_VMK2['Дата звонка'] >= start_day.date()) & (df_covid_calls_VMK2['Дата звонка'] <= finish_day.date())].shape[0] \n",
    "\n",
    "print(f\"\"\"3 Всего количество обращений (c {start_day.day} по {finish_day.day} число): {df_period_day_RT.shape[0]}\n",
    "4 Всего количество обращений (c нарастающим итогом с 01.01.2022 по {finish_day.day} число): {df_1_to_finish_day_RT.shape[0]}\n",
    "5 Количество обращений (c {start_day.day} по {finish_day.day} число) по вопросам здравоохранения: {count_healthcare_calls_VMK2}\n",
    "6 Количество обращений (c нарастающим итогом с 01.01.2022 по {finish_day.day} число)по вопросам здравоохранения: {count_1_to_finish_healthcare_calls_VMK2}\n",
    "7 Количество обращений (за отчетный период) по вопросам covid - 19 (организации и оказания мед.помощи): {count_covid_calls_VMK2}\n",
    "8 Количество обращений (нарастающим итогом с 01.01.2022) по вопросам covid - 19 (организации и оказания мед.помощи): {count_1_to_covid_calls_VMK2}\n",
    "\n",
    "\"\"\")\n",
    "print(pd.DataFrame([{\"3\": df_period_day_RT.shape[0],\"4\": df_1_to_finish_day_RT.shape[0],\"5\": count_healthcare_calls_VMK2,\"6\": count_1_to_finish_healthcare_calls_VMK2,\"7\": count_covid_calls_VMK2, \"8\": count_1_to_covid_calls_VMK2}], index=[' ']))\n"
   ]
  },
  {
   "cell_type": "code",
   "execution_count": null,
   "metadata": {},
   "outputs": [],
   "source": [
    "\n"
   ]
  },
  {
   "cell_type": "code",
   "execution_count": null,
   "metadata": {},
   "outputs": [],
   "source": []
  }
 ],
 "metadata": {
  "kernelspec": {
   "display_name": "Python 3 (ipykernel)",
   "language": "python",
   "name": "python3"
  },
  "language_info": {
   "codemirror_mode": {
    "name": "ipython",
    "version": 3
   },
   "file_extension": ".py",
   "mimetype": "text/x-python",
   "name": "python",
   "nbconvert_exporter": "python",
   "pygments_lexer": "ipython3",
   "version": "3.9.7"
  }
 },
 "nbformat": 4,
 "nbformat_minor": 4
}
